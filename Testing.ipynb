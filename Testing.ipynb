{
 "cells": [
  {
   "cell_type": "code",
   "execution_count": 23,
   "id": "07613a9c-89cc-47cd-9936-188326d1e4de",
   "metadata": {},
   "outputs": [
    {
     "name": "stdout",
     "output_type": "stream",
     "text": [
      "Defaulting to user installation because normal site-packages is not writeable\n",
      "Requirement already satisfied: pandas in ./.local/lib/python3.10/site-packages (2.2.2)\n",
      "Requirement already satisfied: numpy>=1.22.4 in ./.local/lib/python3.10/site-packages (from pandas) (1.26.4)\n",
      "Requirement already satisfied: python-dateutil>=2.8.2 in /opt/tljh/user/lib/python3.10/site-packages (from pandas) (2.8.2)\n",
      "Requirement already satisfied: pytz>=2020.1 in /opt/tljh/user/lib/python3.10/site-packages (from pandas) (2023.3.post1)\n",
      "Requirement already satisfied: tzdata>=2022.7 in ./.local/lib/python3.10/site-packages (from pandas) (2024.1)\n",
      "Requirement already satisfied: six>=1.5 in /opt/tljh/user/lib/python3.10/site-packages (from python-dateutil>=2.8.2->pandas) (1.16.0)\n",
      "\n",
      "\u001b[1m[\u001b[0m\u001b[34;49mnotice\u001b[0m\u001b[1;39;49m]\u001b[0m\u001b[39;49m A new release of pip is available: \u001b[0m\u001b[31;49m23.3.1\u001b[0m\u001b[39;49m -> \u001b[0m\u001b[32;49m24.0\u001b[0m\n",
      "\u001b[1m[\u001b[0m\u001b[34;49mnotice\u001b[0m\u001b[1;39;49m]\u001b[0m\u001b[39;49m To update, run: \u001b[0m\u001b[32;49mpip install --upgrade pip\u001b[0m\n"
     ]
    }
   ],
   "source": [
    "!pip install pandas"
   ]
  },
  {
   "cell_type": "code",
   "execution_count": 24,
   "id": "e061f907-956c-495f-8b60-4865108c7137",
   "metadata": {
    "tags": []
   },
   "outputs": [
    {
     "name": "stdout",
     "output_type": "stream",
     "text": [
      "Defaulting to user installation because normal site-packages is not writeable\n",
      "Requirement already satisfied: pip in /opt/tljh/user/lib/python3.10/site-packages (23.3.1)\n",
      "Collecting pip\n",
      "  Downloading pip-24.0-py3-none-any.whl.metadata (3.6 kB)\n",
      "Downloading pip-24.0-py3-none-any.whl (2.1 MB)\n",
      "\u001b[2K   \u001b[90m━━━━━━━━━━━━━━━━━━━━━━━━━━━━━━━━━━━━━━━━\u001b[0m \u001b[32m2.1/2.1 MB\u001b[0m \u001b[31m64.0 MB/s\u001b[0m eta \u001b[36m0:00:00\u001b[0m\n",
      "\u001b[?25hInstalling collected packages: pip\n",
      "\u001b[33m  WARNING: The scripts pip, pip3 and pip3.10 are installed in '/home/jupyter-user-3/.local/bin' which is not on PATH.\n",
      "  Consider adding this directory to PATH or, if you prefer to suppress this warning, use --no-warn-script-location.\u001b[0m\u001b[33m\n",
      "\u001b[0mSuccessfully installed pip-24.0\n",
      "\n",
      "\u001b[1m[\u001b[0m\u001b[34;49mnotice\u001b[0m\u001b[1;39;49m]\u001b[0m\u001b[39;49m A new release of pip is available: \u001b[0m\u001b[31;49m23.3.1\u001b[0m\u001b[39;49m -> \u001b[0m\u001b[32;49m24.0\u001b[0m\n",
      "\u001b[1m[\u001b[0m\u001b[34;49mnotice\u001b[0m\u001b[1;39;49m]\u001b[0m\u001b[39;49m To update, run: \u001b[0m\u001b[32;49mpip install --upgrade pip\u001b[0m\n",
      "Note: you may need to restart the kernel to use updated packages.\n"
     ]
    }
   ],
   "source": [
    "pip install --upgrade pip"
   ]
  },
  {
   "cell_type": "code",
   "execution_count": 3,
   "id": "049c4cc8-b3a0-438d-892d-37d4a927cedf",
   "metadata": {
    "tags": []
   },
   "outputs": [],
   "source": [
    "DIR = \"/home/jupyter-user-1/shared_data_read_only/Census-Data/\""
   ]
  },
  {
   "cell_type": "code",
   "execution_count": 18,
   "id": "6b7ff64d-2bc2-4f65-b06e-9a8363a58ca9",
   "metadata": {
    "tags": []
   },
   "outputs": [
    {
     "name": "stdout",
     "output_type": "stream",
     "text": [
      "ZIP,LAT,LNG\n",
      "00601,18.180555, -66.749961\n",
      "00602,18.361945, -67.175597\n",
      "00603,18.455183, -67.119887\n",
      "00606,18.158345, -66.932911\n"
     ]
    }
   ],
   "source": [
    "with open('zip_lat_long.csv', 'r') as file:\n",
    "    head = [next(file) for _ in range(5)]\n",
    "for line in head:\n",
    "    print(line.strip())  "
   ]
  },
  {
   "cell_type": "code",
   "execution_count": 25,
   "id": "c18ed42c-322d-4c19-ac5c-f1f97bc3b137",
   "metadata": {},
   "outputs": [
    {
     "name": "stdout",
     "output_type": "stream",
     "text": [
      "['19141', '19142', '19143', '19144', '19145', '19146', '19147', '19148', '19149', '19150', '19151', '19152', '19444']\n"
     ]
    }
   ],
   "source": [
    "import csv\n",
    "from math import radians, sin, cos, sqrt, atan2\n",
    "\n",
    "# calculate the distance between two points using the haversine formula. \n",
    "def haversine(lat1, lon1, lat2, lon2):\n",
    "    dlat = radians(lat2 - lat1)\n",
    "    dlon = radians(lon2 - lon1)\n",
    "    a = sin(dlat / 2)**2 + cos(radians(lat1)) * cos(radians(lat2)) * sin(dlon / 2)**2\n",
    "    c = 2 * atan2(sqrt(a), sqrt(1 - a))\n",
    "    distance = 6371.0 * c\n",
    "    return distance\n",
    "\n",
    "#filter throgh the data\n",
    "zip_codes_within_radius = []\n",
    "with open('zip_lat_long.csv', 'r') as file:\n",
    "    reader = csv.DictReader(file)\n",
    "    for row in reader:\n",
    "        #find Hunting park(ZIP 19140)\n",
    "        if row['ZIP'] == '19140':\n",
    "            lat1, lon1 = float(row['LAT']), float(row['LNG'])\n",
    "            break\n",
    "    #Compare Hunting Park to other ZIPS. \n",
    "    for row in reader:\n",
    "        lat2, lon2 = float(row['LAT']), float(row['LNG'])\n",
    "        distance = haversine(lat1, lon1, lat2, lon2)\n",
    "        #they said they we only willing to travel within 10 to 15 miles from their current location. \n",
    "        if distance <= 15:\n",
    "            zip_codes_within_radius.append(row['ZIP'])\n",
    "\n",
    "print(zip_codes_within_radius)\n"
   ]
  },
  {
   "cell_type": "code",
   "execution_count": 26,
   "id": "24f000db-ea64-47bd-8104-fea884f14f99",
   "metadata": {
    "tags": []
   },
   "outputs": [
    {
     "name": "stdout",
     "output_type": "stream",
     "text": [
      "40.012177 -75.145495\n"
     ]
    }
   ],
   "source": [
    "print(lat1, lon1)"
   ]
  },
  {
   "cell_type": "code",
   "execution_count": null,
   "id": "0ad408df-04d9-4222-99f6-1e365677752f",
   "metadata": {},
   "outputs": [],
   "source": []
  }
 ],
 "metadata": {
  "kernelspec": {
   "display_name": "Python 3 (ipykernel)",
   "language": "python",
   "name": "python3"
  },
  "language_info": {
   "codemirror_mode": {
    "name": "ipython",
    "version": 3
   },
   "file_extension": ".py",
   "mimetype": "text/x-python",
   "name": "python",
   "nbconvert_exporter": "python",
   "pygments_lexer": "ipython3",
   "version": "3.10.10"
  }
 },
 "nbformat": 4,
 "nbformat_minor": 5
}
