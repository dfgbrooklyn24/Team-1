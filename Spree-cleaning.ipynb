{
 "cells": [
  {
   "cell_type": "code",
   "execution_count": 3,
   "id": "1cacb2c5-d01b-49f8-aac9-6709527b4c8c",
   "metadata": {
    "tags": []
   },
   "outputs": [
    {
     "name": "stdout",
     "output_type": "stream",
     "text": [
      "Defaulting to user installation because normal site-packages is not writeable\n",
      "Collecting seaborn\n",
      "  Downloading seaborn-0.13.2-py3-none-any.whl.metadata (5.4 kB)\n",
      "Requirement already satisfied: numpy!=1.24.0,>=1.20 in /home/jupyter-user-8/.local/lib/python3.10/site-packages (from seaborn) (1.26.4)\n",
      "Requirement already satisfied: pandas>=1.2 in /home/jupyter-user-8/.local/lib/python3.10/site-packages (from seaborn) (2.2.2)\n",
      "Requirement already satisfied: matplotlib!=3.6.1,>=3.4 in /opt/tljh/user/lib/python3.10/site-packages (from seaborn) (3.8.1)\n",
      "Requirement already satisfied: contourpy>=1.0.1 in /opt/tljh/user/lib/python3.10/site-packages (from matplotlib!=3.6.1,>=3.4->seaborn) (1.1.1)\n",
      "Requirement already satisfied: cycler>=0.10 in /opt/tljh/user/lib/python3.10/site-packages (from matplotlib!=3.6.1,>=3.4->seaborn) (0.12.1)\n",
      "Requirement already satisfied: fonttools>=4.22.0 in /opt/tljh/user/lib/python3.10/site-packages (from matplotlib!=3.6.1,>=3.4->seaborn) (4.43.1)\n",
      "Requirement already satisfied: kiwisolver>=1.3.1 in /opt/tljh/user/lib/python3.10/site-packages (from matplotlib!=3.6.1,>=3.4->seaborn) (1.4.5)\n",
      "Requirement already satisfied: packaging>=20.0 in /opt/tljh/user/lib/python3.10/site-packages (from matplotlib!=3.6.1,>=3.4->seaborn) (23.2)\n",
      "Requirement already satisfied: pillow>=8 in /opt/tljh/user/lib/python3.10/site-packages (from matplotlib!=3.6.1,>=3.4->seaborn) (10.1.0)\n",
      "Requirement already satisfied: pyparsing>=2.3.1 in /opt/tljh/user/lib/python3.10/site-packages (from matplotlib!=3.6.1,>=3.4->seaborn) (3.1.1)\n",
      "Requirement already satisfied: python-dateutil>=2.7 in /opt/tljh/user/lib/python3.10/site-packages (from matplotlib!=3.6.1,>=3.4->seaborn) (2.8.2)\n",
      "Requirement already satisfied: pytz>=2020.1 in /opt/tljh/user/lib/python3.10/site-packages (from pandas>=1.2->seaborn) (2023.3.post1)\n",
      "Requirement already satisfied: tzdata>=2022.7 in /home/jupyter-user-8/.local/lib/python3.10/site-packages (from pandas>=1.2->seaborn) (2024.1)\n",
      "Requirement already satisfied: six>=1.5 in /opt/tljh/user/lib/python3.10/site-packages (from python-dateutil>=2.7->matplotlib!=3.6.1,>=3.4->seaborn) (1.16.0)\n",
      "Downloading seaborn-0.13.2-py3-none-any.whl (294 kB)\n",
      "\u001b[2K   \u001b[90m━━━━━━━━━━━━━━━━━━━━━━━━━━━━━━━━━━━━━━━━\u001b[0m \u001b[32m294.9/294.9 kB\u001b[0m \u001b[31m15.3 MB/s\u001b[0m eta \u001b[36m0:00:00\u001b[0m\n",
      "\u001b[?25hInstalling collected packages: seaborn\n",
      "Successfully installed seaborn-0.13.2\n",
      "\n",
      "\u001b[1m[\u001b[0m\u001b[34;49mnotice\u001b[0m\u001b[1;39;49m]\u001b[0m\u001b[39;49m A new release of pip is available: \u001b[0m\u001b[31;49m23.3.1\u001b[0m\u001b[39;49m -> \u001b[0m\u001b[32;49m24.0\u001b[0m\n",
      "\u001b[1m[\u001b[0m\u001b[34;49mnotice\u001b[0m\u001b[1;39;49m]\u001b[0m\u001b[39;49m To update, run: \u001b[0m\u001b[32;49mpip install --upgrade pip\u001b[0m\n"
     ]
    }
   ],
   "source": [
    "!pip install seaborn"
   ]
  },
  {
   "cell_type": "code",
   "execution_count": 4,
   "id": "7ce02998-24ea-479f-b956-e798f99a701d",
   "metadata": {
    "tags": []
   },
   "outputs": [
    {
     "name": "stdout",
     "output_type": "stream",
     "text": [
      "Defaulting to user installation because normal site-packages is not writeable\n",
      "Requirement already satisfied: numpy in /home/jupyter-user-8/.local/lib/python3.10/site-packages (1.26.4)\n",
      "\n",
      "\u001b[1m[\u001b[0m\u001b[34;49mnotice\u001b[0m\u001b[1;39;49m]\u001b[0m\u001b[39;49m A new release of pip is available: \u001b[0m\u001b[31;49m23.3.1\u001b[0m\u001b[39;49m -> \u001b[0m\u001b[32;49m24.0\u001b[0m\n",
      "\u001b[1m[\u001b[0m\u001b[34;49mnotice\u001b[0m\u001b[1;39;49m]\u001b[0m\u001b[39;49m To update, run: \u001b[0m\u001b[32;49mpip install --upgrade pip\u001b[0m\n"
     ]
    }
   ],
   "source": [
    "!pip install numpy"
   ]
  },
  {
   "cell_type": "code",
   "execution_count": 2,
   "id": "71ac4388-a278-4684-8914-e870d4546cd6",
   "metadata": {
    "tags": []
   },
   "outputs": [],
   "source": [
    "import sys\n",
    "import pandas as pd\n",
    "import seaborn as sns\n",
    "import numpy as np"
   ]
  },
  {
   "cell_type": "code",
   "execution_count": 6,
   "id": "d349074e-bafb-4461-b244-2d4c8d1891ba",
   "metadata": {
    "tags": []
   },
   "outputs": [],
   "source": [
    "DIR_census = \"/home/jupyter-user-1/shared_data_read_only/Census-Data/\""
   ]
  },
  {
   "cell_type": "code",
   "execution_count": 3,
   "id": "76e1fbb8-a960-4646-8a6e-a42b98c6226f",
   "metadata": {
    "tags": []
   },
   "outputs": [],
   "source": [
    "DIR_education = \"/home/jupyter-user-8/shared_data_read_only/Education-Data/\""
   ]
  },
  {
   "cell_type": "code",
   "execution_count": 4,
   "id": "493a927c-1218-4b21-9f05-b9f313c47702",
   "metadata": {
    "tags": []
   },
   "outputs": [],
   "source": [
    "filtered_metadata = pd.read_csv(DIR_education + \"SPREE_SY2122_School_Metric_Scores.csv\")"
   ]
  },
  {
   "cell_type": "code",
   "execution_count": 5,
   "id": "f4b9ebb7-98b1-4e4d-8aa8-0346ffa81dd3",
   "metadata": {},
   "outputs": [],
   "source": [
    "'''\n",
    "filtered_metadata = \"African American/Black\" keyword\n",
    "filtered_metadatas = \"Black/African American\" keyword\n",
    "filtered_df = \"% of Students Attending less than 80% of Instructional Days\" keyword\n",
    "'''\n",
    "def metrics_process(Metric, phrases):\n",
    "    if pd.isnull(Metric):\n",
    "        return None\n",
    "    for phrase in phrases:\n",
    "        if phrase in Metric:\n",
    "            return phrase\n",
    "    return None\n"
   ]
  },
  {
   "cell_type": "code",
   "execution_count": 6,
   "id": "7e1ef4ae-6cf2-4d71-825b-22c3c8338255",
   "metadata": {
    "tags": []
   },
   "outputs": [],
   "source": [
    "data_phrases = [\n",
    "    \"African American/Black\"\n",
    "    \"Black/African American\"\n",
    "    \"% of Students Attending less than 80% of Instructional Days\"\n",
    "]"
   ]
  },
  {
   "cell_type": "code",
   "execution_count": 7,
   "id": "f8467856-0111-4fcb-ad7f-84fda0aec365",
   "metadata": {
    "tags": []
   },
   "outputs": [],
   "source": [
    "filtered_metadata['metric'] = filtered_metadata['metric'].apply(metrics_process, phrases = data_phrases)\n",
    "filtered_metadata.dropna(subset=['metric'], inplace=True)\n",
    "filtered_metadata.reset_index(drop=True, inplace=True)\n"
   ]
  },
  {
   "cell_type": "code",
   "execution_count": 8,
   "id": "67bd2d29-c65b-410e-b1d4-2d9c357b0a48",
   "metadata": {
    "tags": []
   },
   "outputs": [],
   "source": [
    "filtered_metadata.to_csv(\"educationmetricscores\")"
   ]
  },
  {
   "cell_type": "code",
   "execution_count": 9,
   "id": "00d19ad2-1d1a-462f-9ce4-a1d18c93a7a7",
   "metadata": {},
   "outputs": [],
   "source": [
    "DIR_demographics =  \"/home/jupyter-user-8/shared_data_read_only/Education-Data/\""
   ]
  },
  {
   "cell_type": "code",
   "execution_count": 10,
   "id": "3e8fb858-bb11-4f8e-ab0f-860650549e7a",
   "metadata": {
    "tags": []
   },
   "outputs": [],
   "source": [
    "filtered_demorollment = pd.read_csv(DIR_demographics + '2023-2024 Enrollment & Demographics.csv')"
   ]
  },
  {
   "cell_type": "code",
   "execution_count": 25,
   "id": "faac522b-0364-4815-a22b-c520d174313b",
   "metadata": {
    "tags": []
   },
   "outputs": [],
   "source": [
    "df_demorollment = filtered_demorollment[['StudentEnrollment','ELCount', 'ELPCT', 'BlackAfricanAmericanCount', 'BlackAfricanAmericanPCT', 'CEPEconomicallyDisadvantagedRate']]\n",
    "\n"
   ]
  },
  {
   "cell_type": "code",
   "execution_count": 26,
   "id": "f793f09f-d09d-420d-a4f0-23c9d340275f",
   "metadata": {
    "tags": []
   },
   "outputs": [],
   "source": [
    "df_demorollment.to_csv(\"demographicscolumns\")"
   ]
  },
  {
   "cell_type": "code",
   "execution_count": 27,
   "id": "b0b3e3a0-fcd1-49f6-8b8b-c3247ddb2335",
   "metadata": {
    "tags": []
   },
   "outputs": [],
   "source": [
    "DIR_studentada =  \"/home/jupyter-user-8/shared_data_read_only/Education-Data/\""
   ]
  },
  {
   "cell_type": "code",
   "execution_count": 28,
   "id": "2d49afde-7991-4bbf-93a6-1efad9a860ed",
   "metadata": {
    "tags": []
   },
   "outputs": [],
   "source": [
    "filtered_studentada = pd.read_csv(DIR_studentada + 'Student_ADA_Yearly.csv')"
   ]
  },
  {
   "cell_type": "code",
   "execution_count": 29,
   "id": "0511348b-d838-4818-98da-4e6e4a913ecd",
   "metadata": {
    "tags": []
   },
   "outputs": [],
   "source": [
    "df_studentada = filtered_studentada[['ULCS Code', 'School Name', 'Average Daily Attendance (YTD)']]"
   ]
  },
  {
   "cell_type": "code",
   "execution_count": 30,
   "id": "f17db7e8-bd04-4a75-8899-8d2ab1da8b27",
   "metadata": {
    "tags": []
   },
   "outputs": [],
   "source": [
    "df_studentada.to_csv(\"StudentADA\")"
   ]
  },
  {
   "cell_type": "code",
   "execution_count": null,
   "id": "8946bc84-afb2-4609-bb5b-3bb783af5218",
   "metadata": {},
   "outputs": [],
   "source": []
  }
 ],
 "metadata": {
  "kernelspec": {
   "display_name": "Python 3 (ipykernel)",
   "language": "python",
   "name": "python3"
  },
  "language_info": {
   "codemirror_mode": {
    "name": "ipython",
    "version": 3
   },
   "file_extension": ".py",
   "mimetype": "text/x-python",
   "name": "python",
   "nbconvert_exporter": "python",
   "pygments_lexer": "ipython3",
   "version": "3.10.10"
  }
 },
 "nbformat": 4,
 "nbformat_minor": 5
}
